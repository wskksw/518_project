{
  "cells": [
    {
      "cell_type": "code",
      "execution_count": 1,
      "metadata": {
        "id": "kvcdxMwSIIsI"
      },
      "outputs": [],
      "source": [
        "import numpy as np\n",
        "import pandas as pd\n",
        "import matplotlib.pyplot as plt\n",
        "import seaborn as sns\n",
        "import random"
      ]
    },
    {
      "cell_type": "code",
      "execution_count": 2,
      "metadata": {
        "colab": {
          "base_uri": "https://localhost:8080/",
          "height": 424
        },
        "id": "qC_v22nmIqwJ",
        "outputId": "1afc7241-31ee-4885-cfbd-b7dd903aac2a"
      },
      "outputs": [
        {
          "data": {
            "text/html": [
              "<div>\n",
              "<style scoped>\n",
              "    .dataframe tbody tr th:only-of-type {\n",
              "        vertical-align: middle;\n",
              "    }\n",
              "\n",
              "    .dataframe tbody tr th {\n",
              "        vertical-align: top;\n",
              "    }\n",
              "\n",
              "    .dataframe thead th {\n",
              "        text-align: right;\n",
              "    }\n",
              "</style>\n",
              "<table border=\"1\" class=\"dataframe\">\n",
              "  <thead>\n",
              "    <tr style=\"text-align: right;\">\n",
              "      <th></th>\n",
              "      <th>age</th>\n",
              "      <th>sex</th>\n",
              "      <th>cp</th>\n",
              "      <th>trestbps</th>\n",
              "      <th>chol</th>\n",
              "      <th>fbs</th>\n",
              "      <th>restecg</th>\n",
              "      <th>thalach</th>\n",
              "      <th>exang</th>\n",
              "      <th>oldpeak</th>\n",
              "      <th>slope</th>\n",
              "      <th>ca</th>\n",
              "      <th>thal</th>\n",
              "      <th>num</th>\n",
              "    </tr>\n",
              "  </thead>\n",
              "  <tbody>\n",
              "    <tr>\n",
              "      <th>0</th>\n",
              "      <td>63</td>\n",
              "      <td>1</td>\n",
              "      <td>1</td>\n",
              "      <td>145</td>\n",
              "      <td>233</td>\n",
              "      <td>1</td>\n",
              "      <td>2</td>\n",
              "      <td>150</td>\n",
              "      <td>0</td>\n",
              "      <td>2.3</td>\n",
              "      <td>3</td>\n",
              "      <td>0.0</td>\n",
              "      <td>6.0</td>\n",
              "      <td>0</td>\n",
              "    </tr>\n",
              "    <tr>\n",
              "      <th>1</th>\n",
              "      <td>67</td>\n",
              "      <td>1</td>\n",
              "      <td>4</td>\n",
              "      <td>160</td>\n",
              "      <td>286</td>\n",
              "      <td>0</td>\n",
              "      <td>2</td>\n",
              "      <td>108</td>\n",
              "      <td>1</td>\n",
              "      <td>1.5</td>\n",
              "      <td>2</td>\n",
              "      <td>3.0</td>\n",
              "      <td>3.0</td>\n",
              "      <td>2</td>\n",
              "    </tr>\n",
              "    <tr>\n",
              "      <th>2</th>\n",
              "      <td>67</td>\n",
              "      <td>1</td>\n",
              "      <td>4</td>\n",
              "      <td>120</td>\n",
              "      <td>229</td>\n",
              "      <td>0</td>\n",
              "      <td>2</td>\n",
              "      <td>129</td>\n",
              "      <td>1</td>\n",
              "      <td>2.6</td>\n",
              "      <td>2</td>\n",
              "      <td>2.0</td>\n",
              "      <td>7.0</td>\n",
              "      <td>1</td>\n",
              "    </tr>\n",
              "    <tr>\n",
              "      <th>3</th>\n",
              "      <td>37</td>\n",
              "      <td>1</td>\n",
              "      <td>3</td>\n",
              "      <td>130</td>\n",
              "      <td>250</td>\n",
              "      <td>0</td>\n",
              "      <td>0</td>\n",
              "      <td>187</td>\n",
              "      <td>0</td>\n",
              "      <td>3.5</td>\n",
              "      <td>3</td>\n",
              "      <td>0.0</td>\n",
              "      <td>3.0</td>\n",
              "      <td>0</td>\n",
              "    </tr>\n",
              "    <tr>\n",
              "      <th>4</th>\n",
              "      <td>41</td>\n",
              "      <td>0</td>\n",
              "      <td>2</td>\n",
              "      <td>130</td>\n",
              "      <td>204</td>\n",
              "      <td>0</td>\n",
              "      <td>2</td>\n",
              "      <td>172</td>\n",
              "      <td>0</td>\n",
              "      <td>1.4</td>\n",
              "      <td>1</td>\n",
              "      <td>0.0</td>\n",
              "      <td>3.0</td>\n",
              "      <td>0</td>\n",
              "    </tr>\n",
              "  </tbody>\n",
              "</table>\n",
              "</div>"
            ],
            "text/plain": [
              "   age  sex  cp  trestbps  chol  fbs  restecg  thalach  exang  oldpeak  slope  \\\n",
              "0   63    1   1       145   233    1        2      150      0      2.3      3   \n",
              "1   67    1   4       160   286    0        2      108      1      1.5      2   \n",
              "2   67    1   4       120   229    0        2      129      1      2.6      2   \n",
              "3   37    1   3       130   250    0        0      187      0      3.5      3   \n",
              "4   41    0   2       130   204    0        2      172      0      1.4      1   \n",
              "\n",
              "    ca  thal  num  \n",
              "0  0.0   6.0    0  \n",
              "1  3.0   3.0    2  \n",
              "2  2.0   7.0    1  \n",
              "3  0.0   3.0    0  \n",
              "4  0.0   3.0    0  "
            ]
          },
          "execution_count": 2,
          "metadata": {},
          "output_type": "execute_result"
        }
      ],
      "source": [
        "#read in data\n",
        "df = pd.read_csv('data/data.csv')\n",
        "df = df.dropna()\n",
        "df.head()"
      ]
    },
    {
      "cell_type": "code",
      "execution_count": 3,
      "metadata": {
        "colab": {
          "base_uri": "https://localhost:8080/"
        },
        "id": "mi10o5wGsbJl",
        "outputId": "e3a5a1d2-ec9a-45fe-d40b-88cd51012d51"
      },
      "outputs": [
        {
          "data": {
            "text/plain": [
              "pandas.core.series.Series"
            ]
          },
          "execution_count": 3,
          "metadata": {},
          "output_type": "execute_result"
        }
      ],
      "source": [
        "#\n",
        "x1 = df['oldpeak']\n",
        "x2 = df['ca']\n",
        "x3 = df['thal']\n",
        "x4 = df['exang']\n",
        "type(x1)"
      ]
    },
    {
      "cell_type": "code",
      "execution_count": 4,
      "metadata": {
        "id": "zSBOvbXBT0Dp"
      },
      "outputs": [],
      "source": [
        "X = np.array([x1, x2, x3, x4]).T\n",
        "# X = np.array(df.thal)\n",
        "# Y = np.array(df['num'])\n",
        "Y = np.array(df['num'].apply(lambda x:1 if x>0 else 0))"
      ]
    },
    {
      "cell_type": "code",
      "execution_count": 5,
      "metadata": {
        "id": "8twtUbgNVg1V"
      },
      "outputs": [],
      "source": [
        "# split the data\n",
        "from sklearn.model_selection import train_test_split\n",
        "X_train, X_test, Y_train, Y_test = train_test_split(X, Y, test_size=0.1, random_state=0)"
      ]
    },
    {
      "cell_type": "code",
      "execution_count": 6,
      "metadata": {
        "colab": {
          "base_uri": "https://localhost:8080/"
        },
        "id": "_WmHb6Lteo-b",
        "outputId": "563b0304-4f4b-4414-b4ef-63f4b0e2d855"
      },
      "outputs": [
        {
          "data": {
            "text/plain": [
              "(267, 4)"
            ]
          },
          "execution_count": 6,
          "metadata": {},
          "output_type": "execute_result"
        }
      ],
      "source": [
        "X_train.shape"
      ]
    },
    {
      "cell_type": "code",
      "execution_count": 7,
      "metadata": {
        "colab": {
          "base_uri": "https://localhost:8080/"
        },
        "id": "SW7iNZWOgIQe",
        "outputId": "4c5a334c-6131-4302-a843-5531178a7bb2"
      },
      "outputs": [
        {
          "data": {
            "text/plain": [
              "(267,)"
            ]
          },
          "execution_count": 7,
          "metadata": {},
          "output_type": "execute_result"
        }
      ],
      "source": [
        "Y_train.shape"
      ]
    },
    {
      "cell_type": "code",
      "execution_count": 8,
      "metadata": {
        "id": "O9NLsQYoheWq"
      },
      "outputs": [],
      "source": [
        "import random\n",
        "import numpy as np\n",
        "import pandas as pd\n",
        "from sklearn.datasets import load_iris\n",
        "import matplotlib.pyplot as plt\n",
        "\n",
        "class LogisticRegression(object):\n",
        "    def __init__(self,lr=0.01, lam=0.1, fit_intercept=True):\n",
        "        self.lr = lr\n",
        "        self.lam = lam\n",
        "        self.max_iter = 1e6\n",
        "        self.tol = 1e-7\n",
        "        self.fit_intercept = fit_intercept\n",
        "\n",
        "    def _sigmoid(self,x):\n",
        "        z = 1.0 / (1 + np.exp(-x))\n",
        "        return z\n",
        "\n",
        "    def _loss(self,X,y):\n",
        "        \"\"\"\n",
        "        Penalized negative log likelihood of the targets under the current\n",
        "        model.\n",
        "            NLL = -1/N * (\n",
        "                [sum_{i=0}^N y_i log(y_pred_i) + (1-y_i) log(1-y_pred_i)] -\n",
        "                (gamma ||b||) / 2\n",
        "            )\n",
        "        \"\"\"\n",
        "        N, M = X.shape\n",
        "        p = self._sigmoid(np.dot(X, self.w))\n",
        "        c1 = y * np.log(p)\n",
        "        c2 = (1 - y) * np.log(1-p)\n",
        "        loss = (-sum(c1 + c2) + 0.5 * self.lam * sum(self.w ** 2)) / N\n",
        "        return loss\n",
        "        # loss = - np.log(p[y==1]).sum() - np.log(1- p[y==0]).sum()\n",
        "        # penalty = 0.5 * self.lam * np.linalg.norm(self.w, ord=2)**2\n",
        "        # return (loss + penalty) / N\n",
        "\n",
        "    def fit(self, X, Y):\n",
        "        if self.fit_intercept:\n",
        "            X = np.c_[np.ones(X.shape[0]), X]   # add bias\n",
        "\n",
        "        l_prev = np.inf\n",
        "        self.w = np.random.randn(X.shape[1])\n",
        "\n",
        "        for i in range(int(self.max_iter)):\n",
        "            self.w -= self.lr * self._gradient(X,Y)\n",
        "            loss = self._loss(X,Y)\n",
        "            if l_prev - loss < self.tol:\n",
        "                return\n",
        "            l_prev = loss\n",
        "            # if i % 100 == 0:\n",
        "            #     print(i,'iteration, loss=',loss)\n",
        "\n",
        "    def _gradient(self,X,y):\n",
        "        y_pred = self._sigmoid(np.dot(X, self.w))\n",
        "        g_l2norm = self.lam * self.w\n",
        "        g = - (np.dot(y - y_pred, X) + g_l2norm) / X.shape[0]\n",
        "        return g\n",
        "\n",
        "    def predict(self,X):\n",
        "        if self.fit_intercept:\n",
        "            X = np.c_[np.ones(X.shape[0]),X]\n",
        "        y_pred = self._sigmoid(np.dot(X, self.w))\n",
        "        np.putmask(y_pred, y_pred >= 0.5, 1.0)\n",
        "        np.putmask(y_pred, y_pred < 0.5, 0.0)\n",
        "        return y_pred"
      ]
    },
    {
      "cell_type": "markdown",
      "metadata": {
        "id": "BRHmGRjL-fTm"
      },
      "source": [
        "# Use feature 'oldpeak', 'ca', 'thal' and 'exang'"
      ]
    },
    {
      "cell_type": "code",
      "execution_count": 9,
      "metadata": {
        "colab": {
          "base_uri": "https://localhost:8080/"
        },
        "id": "a04dn_cR-Gtf",
        "outputId": "95d85adc-bba9-4700-c4d7-ccbca3b83dfb"
      },
      "outputs": [
        {
          "data": {
            "text/plain": [
              "array([-4.03543601,  0.53368121,  1.00009513,  0.45960527,  1.48556878])"
            ]
          },
          "execution_count": 9,
          "metadata": {},
          "output_type": "execute_result"
        }
      ],
      "source": [
        "log_regression4 = LogisticRegression()\n",
        "log_regression4.fit(X_train,Y_train)\n",
        "log_regression4.w"
      ]
    },
    {
      "cell_type": "code",
      "execution_count": 10,
      "metadata": {
        "colab": {
          "base_uri": "https://localhost:8080/"
        },
        "id": "OcJx4CqJ-GrZ",
        "outputId": "90f2f3f9-c855-496c-a1fd-c2042ddc677c"
      },
      "outputs": [
        {
          "data": {
            "text/plain": [
              "(30,)"
            ]
          },
          "execution_count": 10,
          "metadata": {},
          "output_type": "execute_result"
        }
      ],
      "source": [
        "y_pred4 = log_regression4.predict(X_test)\n",
        "y_pred4.shape"
      ]
    },
    {
      "cell_type": "code",
      "execution_count": 11,
      "metadata": {
        "id": "dBmsnUpC-Go1"
      },
      "outputs": [],
      "source": [
        "def calculate_accuracy(predictions, labels):\n",
        "    predictions_correct = predictions == labels\n",
        "    accuracy = predictions_correct.mean()\n",
        "\n",
        "    return accuracy"
      ]
    },
    {
      "cell_type": "code",
      "execution_count": 14,
      "metadata": {
        "colab": {
          "base_uri": "https://localhost:8080/"
        },
        "id": "VdLmLUyK-PD-",
        "outputId": "cf94e5e1-c44e-4816-fc08-2302866404b8"
      },
      "outputs": [
        {
          "data": {
            "text/plain": [
              "0.8333333333333334"
            ]
          },
          "execution_count": 14,
          "metadata": {},
          "output_type": "execute_result"
        }
      ],
      "source": [
        "accuracy4 = calculate_accuracy(y_pred4, Y_test)\n",
        "accuracy4"
      ]
    },
    {
      "cell_type": "code",
      "execution_count": 18,
      "metadata": {
        "colab": {
          "base_uri": "https://localhost:8080/"
        },
        "id": "P6_g3_VVhD5x",
        "outputId": "5409e7b7-4daa-4638-e800-6932e1908bdb"
      },
      "outputs": [
        {
          "name": "stdout",
          "output_type": "stream",
          "text": [
            "Accuracy: 0.8333333333333334\n",
            "Precision: 0.9090909090909091\n",
            "Recall: 0.7142857142857143\n",
            "F1 Score: 0.8\n",
            "Confusion Matrix:\n",
            "[[10  1]\n",
            " [ 4 15]]\n"
          ]
        }
      ],
      "source": [
        "def calculate_precision(predictions, labels):\n",
        "    true_positives = np.sum((predictions == 1) & (labels == 1))\n",
        "    predicted_positives = np.sum(predictions == 1)\n",
        "    precision = true_positives / predicted_positives if predicted_positives > 0 else 0\n",
        "    return precision\n",
        "\n",
        "def calculate_recall(predictions, labels):\n",
        "    true_positives = np.sum((predictions == 1) & (labels == 1))\n",
        "    actual_positives = np.sum(labels == 1)\n",
        "    recall = true_positives / actual_positives if actual_positives > 0 else 0\n",
        "    return recall\n",
        "\n",
        "def calculate_f1_score(precision, recall):\n",
        "    return 2 * (precision * recall) / (precision + recall) if (precision + recall) > 0 else 0\n",
        "\n",
        "def calculate_confusion_matrix(predictions, labels):\n",
        "    tp = np.sum((predictions == 1) & (labels == 1))\n",
        "    tn = np.sum((predictions == 0) & (labels == 0))\n",
        "    fp = np.sum((predictions == 1) & (labels == 0))\n",
        "    fn = np.sum((predictions == 0) & (labels == 1))\n",
        "    return np.array([[tp, fp], [fn, tn]])\n",
        "\n",
        "# Now calculate each metric\n",
        "precision4 = calculate_precision(y_pred4, Y_test)\n",
        "recall4 = calculate_recall(y_pred4, Y_test)\n",
        "f1_score4 = calculate_f1_score(precision4, recall4)\n",
        "confusion_matrix4 = calculate_confusion_matrix(y_pred4, Y_test)\n",
        "\n",
        "# Print the results\n",
        "print(f\"Accuracy: {accuracy4}\")\n",
        "print(f\"Precision: {precision4}\")\n",
        "print(f\"Recall: {recall4}\")\n",
        "print(f\"F1 Score: {f1_score4}\")\n",
        "print(\"Confusion Matrix:\")\n",
        "print(confusion_matrix4)"
      ]
    },
    {
      "cell_type": "markdown",
      "metadata": {
        "id": "8Qh7t--E8i3h"
      },
      "source": [
        "# Use feature 'oldpeak', 'ca' and 'thal'"
      ]
    },
    {
      "cell_type": "code",
      "execution_count": null,
      "metadata": {
        "colab": {
          "base_uri": "https://localhost:8080/"
        },
        "id": "xG4niKAv8ilM",
        "outputId": "b609df2e-2f12-42cd-b817-576bfa260f34"
      },
      "outputs": [
        {
          "data": {
            "text/plain": [
              "array([-4.03522675,  0.53342582,  1.0000852 ,  0.45946893,  1.48795649])"
            ]
          },
          "execution_count": 62,
          "metadata": {},
          "output_type": "execute_result"
        }
      ],
      "source": [
        "log_regression3 = LogisticRegression()\n",
        "log_regression3.fit(X_train,Y_train)\n",
        "log_regression3.w"
      ]
    },
    {
      "cell_type": "code",
      "execution_count": null,
      "metadata": {
        "colab": {
          "base_uri": "https://localhost:8080/"
        },
        "id": "J9OhMw509BIp",
        "outputId": "2e6c2327-1e6d-408d-88a3-a3bc9a06a253"
      },
      "outputs": [
        {
          "data": {
            "text/plain": [
              "(30,)"
            ]
          },
          "execution_count": 63,
          "metadata": {},
          "output_type": "execute_result"
        }
      ],
      "source": [
        "y_pred3 = log_regression3.predict(X_test)\n",
        "y_pred3.shape"
      ]
    },
    {
      "cell_type": "code",
      "execution_count": null,
      "metadata": {
        "id": "I2v_8szJ8iid"
      },
      "outputs": [],
      "source": [
        "def calculate_accuracy(predictions, labels):\n",
        "    predictions_correct = predictions == labels\n",
        "    accuracy = predictions_correct.mean()\n",
        "\n",
        "    return accuracy"
      ]
    },
    {
      "cell_type": "code",
      "execution_count": null,
      "metadata": {
        "colab": {
          "base_uri": "https://localhost:8080/"
        },
        "id": "RwrytDQM8ie2",
        "outputId": "5d37641e-5dcf-485f-828a-8da4fad47807"
      },
      "outputs": [
        {
          "data": {
            "text/plain": [
              "0.8333333333333334"
            ]
          },
          "execution_count": 66,
          "metadata": {},
          "output_type": "execute_result"
        }
      ],
      "source": [
        "accuracy4 = calculate_accuracy(y_pred3, Y_test)\n",
        "accuracy4"
      ]
    },
    {
      "cell_type": "code",
      "execution_count": null,
      "metadata": {
        "colab": {
          "base_uri": "https://localhost:8080/"
        },
        "id": "S3FVUtXihK0p",
        "outputId": "c820a99f-a30e-43fa-b356-e08ad32ebcb8"
      },
      "outputs": [
        {
          "name": "stdout",
          "output_type": "stream",
          "text": [
            "Accuracy: 0.8333333333333334\n",
            "Precision: 0.9090909090909091\n",
            "Recall: 0.7142857142857143\n",
            "F1 Score: 0.8\n",
            "Confusion Matrix:\n",
            "[[10  1]\n",
            " [ 4 15]]\n"
          ]
        }
      ],
      "source": [
        "def calculate_precision(predictions, labels):\n",
        "    true_positives = np.sum((predictions == 1) & (labels == 1))\n",
        "    predicted_positives = np.sum(predictions == 1)\n",
        "    precision = true_positives / predicted_positives if predicted_positives > 0 else 0\n",
        "    return precision\n",
        "\n",
        "def calculate_recall(predictions, labels):\n",
        "    true_positives = np.sum((predictions == 1) & (labels == 1))\n",
        "    actual_positives = np.sum(labels == 1)\n",
        "    recall = true_positives / actual_positives if actual_positives > 0 else 0\n",
        "    return recall\n",
        "\n",
        "def calculate_f1_score(precision, recall):\n",
        "    return 2 * (precision * recall) / (precision + recall) if (precision + recall) > 0 else 0\n",
        "\n",
        "def calculate_confusion_matrix(predictions, labels):\n",
        "    tp = np.sum((predictions == 1) & (labels == 1))\n",
        "    tn = np.sum((predictions == 0) & (labels == 0))\n",
        "    fp = np.sum((predictions == 1) & (labels == 0))\n",
        "    fn = np.sum((predictions == 0) & (labels == 1))\n",
        "    return np.array([[tp, fp], [fn, tn]])\n",
        "\n",
        "# Now calculate each metric\n",
        "precision3 = calculate_precision(y_pred3, Y_test)\n",
        "recall3 = calculate_recall(y_pred3, Y_test)\n",
        "f1_score3 = calculate_f1_score(precision, recall)\n",
        "confusion_matrix3 = calculate_confusion_matrix(y_pred3, Y_test)\n",
        "\n",
        "# Print the results\n",
        "print(f\"Accuracy: {accuracy3}\")\n",
        "print(f\"Precision: {precision3}\")\n",
        "print(f\"Recall: {recall3}\")\n",
        "print(f\"F1 Score: {f1_score3}\")\n",
        "print(\"Confusion Matrix:\")\n",
        "print(confusion_matrix3)\n"
      ]
    },
    {
      "cell_type": "markdown",
      "metadata": {
        "id": "6OKhZS3-702P"
      },
      "source": [
        "# Use feature 'oldpeak' and 'thal'"
      ]
    },
    {
      "cell_type": "code",
      "execution_count": null,
      "metadata": {
        "colab": {
          "base_uri": "https://localhost:8080/"
        },
        "id": "BZP-gpEV38Cf",
        "outputId": "9966c15a-8e59-488d-ce76-b7ce65d1e8e2"
      },
      "outputs": [
        {
          "data": {
            "text/plain": [
              "array([-4.03568611,  0.53386702,  1.00011855,  0.45971407,  1.48393749])"
            ]
          },
          "execution_count": 46,
          "metadata": {},
          "output_type": "execute_result"
        }
      ],
      "source": [
        "log_regression = LogisticRegression()\n",
        "log_regression.fit(X_train,Y_train)\n",
        "log_regression.w"
      ]
    },
    {
      "cell_type": "code",
      "execution_count": null,
      "metadata": {
        "colab": {
          "base_uri": "https://localhost:8080/"
        },
        "id": "iYsXnyQc5aGK",
        "outputId": "7300eb5c-ac87-4e09-81c3-03868d5495ce"
      },
      "outputs": [
        {
          "data": {
            "text/plain": [
              "(30,)"
            ]
          },
          "execution_count": 47,
          "metadata": {},
          "output_type": "execute_result"
        }
      ],
      "source": [
        "Y_test.shape"
      ]
    },
    {
      "cell_type": "code",
      "execution_count": null,
      "metadata": {
        "colab": {
          "base_uri": "https://localhost:8080/"
        },
        "id": "yweyDWy64Zg5",
        "outputId": "0a441a2e-6d1d-4bcd-ceb5-be8d84bbef7b"
      },
      "outputs": [
        {
          "data": {
            "text/plain": [
              "(30,)"
            ]
          },
          "execution_count": 48,
          "metadata": {},
          "output_type": "execute_result"
        }
      ],
      "source": [
        "y_pred = log_regression.predict(X_test)\n",
        "y_pred.shape"
      ]
    },
    {
      "cell_type": "code",
      "execution_count": null,
      "metadata": {
        "id": "CFHZi3t05yWI"
      },
      "outputs": [],
      "source": [
        "def calculate_accuracy(predictions, labels):\n",
        "    predictions_correct = predictions == labels\n",
        "    accuracy = predictions_correct.mean()\n",
        "\n",
        "    return accuracy"
      ]
    },
    {
      "cell_type": "code",
      "execution_count": null,
      "metadata": {
        "colab": {
          "base_uri": "https://localhost:8080/"
        },
        "id": "ZkUPTkNO560L",
        "outputId": "81f99ad2-91ff-404a-f235-f59c4bcaf35e"
      },
      "outputs": [
        {
          "data": {
            "text/plain": [
              "0.8333333333333334"
            ]
          },
          "execution_count": 50,
          "metadata": {},
          "output_type": "execute_result"
        }
      ],
      "source": [
        "accuracy = calculate_accuracy(y_pred, Y_test)\n",
        "accuracy"
      ]
    },
    {
      "cell_type": "code",
      "execution_count": null,
      "metadata": {
        "colab": {
          "base_uri": "https://localhost:8080/"
        },
        "id": "OXrtCeckhVSD",
        "outputId": "41b82a2f-7759-44c2-b8a2-19689a3863d7"
      },
      "outputs": [
        {
          "name": "stdout",
          "output_type": "stream",
          "text": [
            "Accuracy: 0.8333333333333334\n",
            "Precision: 0.9090909090909091\n",
            "Recall: 0.7142857142857143\n",
            "F1 Score: 0.8\n",
            "Confusion Matrix:\n",
            "[[10  1]\n",
            " [ 4 15]]\n"
          ]
        }
      ],
      "source": [
        "def calculate_precision(predictions, labels):\n",
        "    true_positives = np.sum((predictions == 1) & (labels == 1))\n",
        "    predicted_positives = np.sum(predictions == 1)\n",
        "    precision = true_positives / predicted_positives if predicted_positives > 0 else 0\n",
        "    return precision\n",
        "\n",
        "def calculate_recall(predictions, labels):\n",
        "    true_positives = np.sum((predictions == 1) & (labels == 1))\n",
        "    actual_positives = np.sum(labels == 1)\n",
        "    recall = true_positives / actual_positives if actual_positives > 0 else 0\n",
        "    return recall\n",
        "\n",
        "def calculate_f1_score(precision, recall):\n",
        "    return 2 * (precision * recall) / (precision + recall) if (precision + recall) > 0 else 0\n",
        "\n",
        "def calculate_confusion_matrix(predictions, labels):\n",
        "    tp = np.sum((predictions == 1) & (labels == 1))\n",
        "    tn = np.sum((predictions == 0) & (labels == 0))\n",
        "    fp = np.sum((predictions == 1) & (labels == 0))\n",
        "    fn = np.sum((predictions == 0) & (labels == 1))\n",
        "    return np.array([[tp, fp], [fn, tn]])\n",
        "\n",
        "# Now calculate each metric\n",
        "precision = calculate_precision(y_pred, Y_test)\n",
        "recall = calculate_recall(y_pred, Y_test)\n",
        "f1_score = calculate_f1_score(precision, recall)\n",
        "confusion_matrix = calculate_confusion_matrix(y_pred, Y_test)\n",
        "\n",
        "# Print the results\n",
        "print(f\"Accuracy: {accuracy}\")\n",
        "print(f\"Precision: {precision}\")\n",
        "print(f\"Recall: {recall}\")\n",
        "print(f\"F1 Score: {f1_score}\")\n",
        "print(\"Confusion Matrix:\")\n",
        "print(confusion_matrix)\n"
      ]
    },
    {
      "cell_type": "code",
      "execution_count": null,
      "metadata": {
        "id": "fJFeAhHmdi5-"
      },
      "outputs": [],
      "source": [
        "# # -*- coding: utf-8 -*-\n",
        "# \"\"\"logistic-regression-heart-disease.ipynb\n",
        "\n",
        "# Automatically generated by Colaboratory.\n",
        "\n",
        "# Original file is located at\n",
        "#     https://colab.research.google.com/drive/1XHL3s2zZ2jRf4oSdYHL37sv5wmZIGTVw\n",
        "# \"\"\"\n",
        "\n",
        "# import numpy as np\n",
        "# import pandas as pd\n",
        "# import matplotlib.pyplot as plt\n",
        "# import seaborn as sns\n",
        "# import random\n",
        "\n",
        "# df = pd.read_csv('/Users/yuehuasong/Desktop/2023-09-winter01-courses/518-machine-learninng/project-22/data.csv')\n",
        "# df = df.dropna()\n",
        "# df\n",
        "\n",
        "# x1 = df['oldpeak']\n",
        "# x2 = df['ca']\n",
        "# x3 = df['thal']\n",
        "# x4 = df['exang']\n",
        "# type(x1)\n",
        "\n",
        "# X = np.array([x1, x2, x3, x4]).T\n",
        "# # X = np.array(df.thal)\n",
        "# # Y = np.array(df['num'])\n",
        "# Y = np.array(df['num'].apply(lambda x:1 if x>0 else 0))\n",
        "\n",
        "# # split the data\n",
        "# from sklearn.model_selection import train_test_split\n",
        "# X_train, X_test, Y_train, Y_test = train_test_split(X, Y, test_size=0.1, random_state=0)\n",
        "\n",
        "# X_train.shape\n",
        "\n",
        "# Y_train.shape\n",
        "\n",
        "# import random\n",
        "# import numpy as np\n",
        "# import pandas as pd\n",
        "# from sklearn.datasets import load_iris\n",
        "# import matplotlib.pyplot as plt\n",
        "\n",
        "# class LogisticRegression(object):\n",
        "#     def __init__(self,lr=0.01, lam=0.1, fit_intercept=True):\n",
        "#         self.lr = lr\n",
        "#         self.lam = lam\n",
        "#         self.max_iter = 1e6\n",
        "#         self.tol = 1e-7\n",
        "#         self.fit_intercept = fit_intercept\n",
        "\n",
        "#     def _sigmoid(self,x):\n",
        "#         z = 1.0 / (1 + np.exp(-x))\n",
        "#         return z\n",
        "\n",
        "#     def _loss(self,X,y):\n",
        "#         \"\"\"\n",
        "#         Penalized negative log likelihood of the targets under the current\n",
        "#         model.\n",
        "#             NLL = -1/N * (\n",
        "#                 [sum_{i=0}^N y_i log(y_pred_i) + (1-y_i) log(1-y_pred_i)] -\n",
        "#                 (gamma ||b||) / 2\n",
        "#             )\n",
        "#         \"\"\"\n",
        "#         N, M = X.shape\n",
        "#         p = self._sigmoid(np.dot(X, self.w))\n",
        "#         c1 = y * np.log(p)\n",
        "#         c2 = (1 - y) * np.log(1-p)\n",
        "#         loss = (-sum(c1 + c2) + 0.5 * self.lam * sum(self.w ** 2)) / N\n",
        "#         return loss\n",
        "#         # loss = - np.log(p[y==1]).sum() - np.log(1- p[y==0]).sum()\n",
        "#         # penalty = 0.5 * self.lam * np.linalg.norm(self.w, ord=2)**2\n",
        "#         # return (loss + penalty) / N\n",
        "\n",
        "#     def fit(self, X, Y):\n",
        "#         if self.fit_intercept:\n",
        "#             X = np.c_[np.ones(X.shape[0]), X]   # add bias\n",
        "\n",
        "#         l_prev = np.inf\n",
        "#         self.w = np.random.randn(X.shape[1])\n",
        "\n",
        "#         for i in range(int(self.max_iter)):\n",
        "#             self.w -= self.lr * self._gradient(X,Y)\n",
        "#             loss = self._loss(X,Y)\n",
        "#             if l_prev - loss < self.tol:\n",
        "#                 return\n",
        "#             l_prev = loss\n",
        "#             # if i % 100 == 0:\n",
        "#             #     print(i,'iteration, loss=',loss)\n",
        "\n",
        "#     def _gradient(self,X,y):\n",
        "#         y_pred = self._sigmoid(np.dot(X, self.w))\n",
        "#         g_l2norm = self.lam * self.w\n",
        "#         g = - (np.dot(y - y_pred, X) + g_l2norm) / X.shape[0]\n",
        "#         return g\n",
        "\n",
        "#     def predict(self,X):\n",
        "#         if self.fit_intercept:\n",
        "#             X = np.c_[np.ones(X.shape[0]),X]\n",
        "#         y_pred = self._sigmoid(np.dot(X, self.w))\n",
        "#         np.putmask(y_pred, y_pred >= 0.5, 1.0)\n",
        "#         np.putmask(y_pred, y_pred < 0.5, 0.0)\n",
        "#         return y_pred\n",
        "\n",
        "# \"\"\"# Use feature 'oldpeak', 'ca', 'thal' and 'exang'\"\"\"\n",
        "\n",
        "# log_regression = LogisticRegression()\n",
        "# log_regression.fit(X_train,Y_train)\n",
        "# log_regression.w\n",
        "\n",
        "# y_pred = log_regression.predict(X_test)\n",
        "# y_pred.shape\n",
        "\n",
        "# def calculate_accuracy(predictions, labels):\n",
        "#     predictions_correct = predictions == labels\n",
        "#     accuracy = predictions_correct.mean()\n",
        "\n",
        "#     return accuracy\n",
        "\n",
        "# accuracy = calculate_accuracy(y_pred, Y_test)\n",
        "# accuracy"
      ]
    }
  ],
  "metadata": {
    "colab": {
      "provenance": []
    },
    "kernelspec": {
      "display_name": "Python 3",
      "name": "python3"
    },
    "language_info": {
      "codemirror_mode": {
        "name": "ipython",
        "version": 3
      },
      "file_extension": ".py",
      "mimetype": "text/x-python",
      "name": "python",
      "nbconvert_exporter": "python",
      "pygments_lexer": "ipython3",
      "version": "3.8.10"
    }
  },
  "nbformat": 4,
  "nbformat_minor": 0
}
